{
  "nbformat": 4,
  "nbformat_minor": 0,
  "metadata": {
    "colab": {
      "name": "rl-trading-bot.ipynb",
      "provenance": [],
      "collapsed_sections": [],
      "authorship_tag": "ABX9TyNyqJGPDDxTgj1uIYlD5lcb",
      "include_colab_link": true
    },
    "kernelspec": {
      "name": "python3",
      "display_name": "Python 3"
    },
    "accelerator": "GPU"
  },
  "cells": [
    {
      "cell_type": "markdown",
      "metadata": {
        "id": "view-in-github",
        "colab_type": "text"
      },
      "source": [
        "<a href=\"https://colab.research.google.com/github/cypox/rl-trading-bot/blob/main/rl_trading_bot.ipynb\" target=\"_parent\"><img src=\"https://colab.research.google.com/assets/colab-badge.svg\" alt=\"Open In Colab\"/></a>"
      ]
    },
    {
      "cell_type": "code",
      "metadata": {
        "id": "D3PA3hIqSVrU"
      },
      "source": [
        "# USE A CLONED REPO!\n",
        "#!git clone https://github.com/pskrunner14/trading-bot.git bot\n",
        "#%cd bot/\n",
        "#!pip3 install -r requirements.txt\n",
        "#!python3 train.py data/GOOG.csv data/GOOG_2018.csv --strategy t-dqn\n",
        "#!python3 eval.py data/GOOG_2019.csv --model-name model_double-dqn_GOOG_50 --debug"
      ],
      "execution_count": null,
      "outputs": []
    },
    {
      "cell_type": "code",
      "metadata": {
        "id": "kgM-gCbXZ0ud"
      },
      "source": [
        "import math\n",
        "import random\n",
        "import numpy as np\n",
        "import pandas as pd\n",
        "import tensorflow as tf\n",
        "import matplotlib.pyplot as plt\n",
        "import pandas_datareader as data_reader\n",
        "\n",
        "from tqdm import tqdm_notebook, tqdm\n",
        "from collections import deque"
      ],
      "execution_count": null,
      "outputs": []
    },
    {
      "cell_type": "markdown",
      "metadata": {
        "id": "dGVZolgoc1cz"
      },
      "source": [
        "Helper functions"
      ]
    },
    {
      "cell_type": "code",
      "metadata": {
        "id": "lZHgbhf_c0wj"
      },
      "source": [
        "def sigmoid(x):\n",
        "  return 1 / (1 + math.exp(-x))\n",
        "\n",
        "def stock_price_format(n):\n",
        "  if n < 0:\n",
        "    return \"- # {0:2f}\".format(abs(n))\n",
        "  else:\n",
        "    return \"$ {0:2f}\".format(abs(n))\n",
        "\n",
        "def stocks_price_format(n):\n",
        "  if n < 0:\n",
        "    return \"- # {0:2f}\".format(abs(n))\n",
        "  else:\n",
        "    return \"$ {0:2f}\".format(abs(n))\n",
        "\n",
        "def dataset_loader(stock_name, source=\"yahoo\"):\n",
        "  dataset = data_reader.DataReader(stock_name, data_source=source)\n",
        "  start_date = str(dataset.index[0]).split()[0]\n",
        "  end_date = str(dataset.index[1]).split()[0]\n",
        "  \n",
        "  close = dataset['Close']\n",
        "  \n",
        "  return close\n",
        "\n",
        "def state_creator(data, timestep, window_size):\n",
        "  starting_id = timestep - window_size + 1\n",
        "  \n",
        "  if starting_id >= 0:\n",
        "    windowed_data = data[starting_id:timestep+1]\n",
        "  else:\n",
        "    windowed_data = -starting_id * [data[0]] + list(data[0:timestep+1])\n",
        "\n",
        "  state = []\n",
        "  for i in range(window_size - 1):\n",
        "    state.append(sigmoid(windowed_data[i+1] - windowed_data[i]))\n",
        "    \n",
        "  return np.array([state])"
      ],
      "execution_count": null,
      "outputs": []
    },
    {
      "cell_type": "markdown",
      "metadata": {
        "id": "QbqDiCeFj8KB"
      },
      "source": [
        "Loading Apple stocks data"
      ]
    },
    {
      "cell_type": "code",
      "metadata": {
        "id": "xackYHayb52z"
      },
      "source": [
        "stock_name = \"AAPL\"\n",
        "source = \"yahoo\"\n",
        "data = dataset_loader(stock_name, source)"
      ],
      "execution_count": null,
      "outputs": []
    },
    {
      "cell_type": "markdown",
      "metadata": {
        "id": "UFqM0mJjkKA5"
      },
      "source": [
        "Setting model configuration"
      ]
    },
    {
      "cell_type": "code",
      "metadata": {
        "id": "otc_o-WNaQPT"
      },
      "source": [
        "window_size = 10\n",
        "episodes = 1000\n",
        "\n",
        "batch_size = 32\n",
        "data_samples = len(data) - 1"
      ],
      "execution_count": null,
      "outputs": []
    },
    {
      "cell_type": "markdown",
      "metadata": {
        "id": "_n2iGWHEaE4j"
      },
      "source": [
        "Defining our Deep Q-Learning Trader"
      ]
    },
    {
      "cell_type": "code",
      "metadata": {
        "id": "bG18OKlMaARb"
      },
      "source": [
        "class AI_Trader():\n",
        "\n",
        "  def __init__(self, state_size, action_space=3, model_name=\"AITrader\"):\n",
        "    self.state_size = state_size\n",
        "    self.action_space = action_space\n",
        "    self.memory = deque(maxlen=2000)\n",
        "    self.inventory = []\n",
        "    self.model_name = model_name\n",
        "    \n",
        "    self.gamma = 0.95\n",
        "    self.epsilon = 1.0\n",
        "    self.epsilon_final = 0.01\n",
        "    self.epsilon_decay = 0.995\n",
        "\n",
        "    self.model = self.model_builder()\n",
        "  \n",
        "  def model_builder(self):\n",
        "        model = tf.keras.models.Sequential()\n",
        "        #model.add(tf.keras.layers.Dense(units=32, activation='relu', input_dim=self.state_size))\n",
        "        model.add(tf.keras.layers.LSTM(units=16, activation='relu', recurrent_activation='relu', input_shape=(self.state_size, 1)))\n",
        "        model.add(tf.keras.layers.Dense(units=16, activation='relu'))\n",
        "        model.add(tf.keras.layers.Dense(units=self.action_space, activation='linear'))\n",
        "        model.compile(loss='mse', optimizer=tf.keras.optimizers.Adam(lr=0.001))\n",
        "        return model\n",
        "\n",
        "  def trade(self, state):\n",
        "      if random.random() <= self.epsilon:\n",
        "          return random.randrange(self.action_space)\n",
        "      actions = self.model.predict(state)\n",
        "\n",
        "  def batch_train(self, batch_size):\n",
        "      batch = []\n",
        "      for i in range(len(self.memory) - batch_size + 1, len(self.memory)):\n",
        "        batch.append(self.memory[i])\n",
        "      for state, action, reward, next_state, done in batch:\n",
        "        reward = reward\n",
        "        if not done:\n",
        "          reward = reward + self.gamma * np.amax(self.model.predict(np.expand_dims(next_state, 2))[0])\n",
        "        target = self.model.predict(np.expand_dims(state, 2))\n",
        "        target[0][action] = reward\n",
        "        self.model.fit(np.expand_dims(state, 2), target, epochs=1, verbose=0)\n",
        "      if self.epsilon > self.epsilon_final:\n",
        "        self.epsilon *= self.epsilon_decay"
      ],
      "execution_count": null,
      "outputs": []
    },
    {
      "cell_type": "code",
      "metadata": {
        "id": "itbZn9PVcQuT",
        "outputId": "0c2139e2-9b03-4113-f7cf-5a1d1104576c",
        "colab": {
          "base_uri": "https://localhost:8080/"
        }
      },
      "source": [
        "trader = AI_Trader(window_size)\n",
        "trader.model.summary()"
      ],
      "execution_count": null,
      "outputs": [
        {
          "output_type": "stream",
          "text": [
            "WARNING:tensorflow:Layer lstm_11 will not use cuDNN kernel since it doesn't meet the cuDNN kernel criteria. It will use generic GPU kernel as fallback when running on GPU\n",
            "Model: \"sequential_11\"\n",
            "_________________________________________________________________\n",
            "Layer (type)                 Output Shape              Param #   \n",
            "=================================================================\n",
            "lstm_11 (LSTM)               (None, 16)                1152      \n",
            "_________________________________________________________________\n",
            "dense_22 (Dense)             (None, 16)                272       \n",
            "_________________________________________________________________\n",
            "dense_23 (Dense)             (None, 3)                 51        \n",
            "=================================================================\n",
            "Total params: 1,475\n",
            "Trainable params: 1,475\n",
            "Non-trainable params: 0\n",
            "_________________________________________________________________\n"
          ],
          "name": "stdout"
        }
      ]
    },
    {
      "cell_type": "markdown",
      "metadata": {
        "id": "u0oDdviFkPQJ"
      },
      "source": [
        "Training"
      ]
    },
    {
      "cell_type": "code",
      "metadata": {
        "id": "CpPLCiFzeMql",
        "outputId": "317d0d7b-28c1-48ab-8c9e-1084be67e0c0",
        "colab": {
          "base_uri": "https://localhost:8080/",
          "height": 1000
        }
      },
      "source": [
        "for episode in range(1, episodes + 1):\n",
        "  \n",
        "  print(\"Episode: {}/{}\".format(episode, episodes))\n",
        "  \n",
        "  state = state_creator(data, 0, window_size + 1)\n",
        "  \n",
        "  total_profit = 0\n",
        "  trader.inventory = []\n",
        "  \n",
        "  for t in tqdm(range(data_samples)):\n",
        "    \n",
        "    action = trader.trade(np.expand_dims(state, 2))\n",
        "    \n",
        "    next_state = state_creator(data, t+1, window_size + 1)\n",
        "    reward = 0\n",
        "    \n",
        "    if action == 1: #Buying\n",
        "      trader.inventory.append(data[t])\n",
        "      print(\"AI Trader bought: \", stocks_price_format(data[t]))\n",
        "      \n",
        "    elif action == 2 and len(trader.inventory) > 0: #Selling\n",
        "      buy_price = trader.inventory.pop(0)\n",
        "      \n",
        "      reward = max(data[t] - buy_price, 0)\n",
        "      total_profit += data[t] - buy_price\n",
        "      print(\"AI Trader sold: \", stocks_price_format(data[t]), \" Profit: \" + stocks_price_format(data[t] - buy_price) )\n",
        "      \n",
        "    if t == data_samples - 1:\n",
        "      done = True\n",
        "    else:\n",
        "      done = False\n",
        "    \n",
        "    trader.memory.append((state, action, reward, next_state, done))\n",
        "    \n",
        "    state = next_state\n",
        "    \n",
        "    if done:\n",
        "      print(\"########################\")\n",
        "      print(\"TOTAL PROFIT: {}\".format(total_profit))\n",
        "      print(\"########################\")\n",
        "    \n",
        "    if len(trader.memory) > batch_size:\n",
        "      trader.batch_train(batch_size)\n",
        "    \n",
        "  if episode % 10 == 0:\n",
        "    trader.model.save(\"ai_trader_{}.h5\".format(episode))"
      ],
      "execution_count": null,
      "outputs": [
        {
          "output_type": "stream",
          "text": [
            "\n",
            "  0%|          | 0/1257 [00:00<?, ?it/s]\u001b[A"
          ],
          "name": "stderr"
        },
        {
          "output_type": "stream",
          "text": [
            "Episode: 1/1000\n",
            "AI Trader bought:  $ 30.142500\n",
            "AI Trader bought:  $ 29.192499\n",
            "AI Trader sold:  $ 29.027500  Profit: - # 1.115000\n",
            "AI Trader sold:  $ 28.930000  Profit: - # 0.262499\n",
            "AI Trader bought:  $ 29.322500\n",
            "AI Trader sold:  $ 29.695000  Profit: $ 0.372499\n",
            "AI Trader bought:  $ 29.825001\n",
            "AI Trader sold:  $ 29.437500  Profit: - # 0.387501\n",
            "AI Trader bought:  $ 29.719999\n",
            "AI Trader sold:  $ 29.575001  Profit: - # 0.144999\n",
            "AI Trader bought:  $ 28.799999\n",
            "AI Trader bought:  $ 29.757500\n",
            "AI Trader sold:  $ 29.570000  Profit: $ 0.770000\n",
            "AI Trader bought:  $ 29.557501\n",
            "AI Trader sold:  $ 28.295000  Profit: - # 1.462500\n",
            "AI Trader bought:  $ 28.120001\n",
            "AI Trader bought:  $ 27.834999\n",
            "AI Trader sold:  $ 27.245001  Profit: - # 2.312500\n",
            "AI Trader bought:  $ 26.507500\n",
            "AI Trader sold:  $ 26.832500  Profit: - # 1.287500\n",
            "AI Trader bought:  $ 27.152500\n",
            "AI Trader bought:  $ 27.007500\n"
          ],
          "name": "stdout"
        },
        {
          "output_type": "stream",
          "text": [
            "\n",
            "  3%|▎         | 33/1257 [00:04<02:41,  7.60it/s]\u001b[A\n",
            "  3%|▎         | 34/1257 [00:07<22:24,  1.10s/it]\u001b[A\n",
            "  3%|▎         | 35/1257 [00:10<35:45,  1.76s/it]\u001b[A"
          ],
          "name": "stderr"
        },
        {
          "output_type": "stream",
          "text": [
            "AI Trader sold:  $ 26.830000  Profit: - # 1.004999\n"
          ],
          "name": "stdout"
        },
        {
          "output_type": "stream",
          "text": [
            "\n",
            "  3%|▎         | 36/1257 [00:14<46:31,  2.29s/it]\u001b[A"
          ],
          "name": "stderr"
        },
        {
          "output_type": "stream",
          "text": [
            "AI Trader bought:  $ 26.315001\n"
          ],
          "name": "stdout"
        },
        {
          "output_type": "stream",
          "text": [
            "\n",
            "  3%|▎         | 37/1257 [00:17<53:26,  2.63s/it]\u001b[A"
          ],
          "name": "stderr"
        },
        {
          "output_type": "stream",
          "text": [
            "AI Trader bought:  $ 26.337500\n"
          ],
          "name": "stdout"
        },
        {
          "output_type": "stream",
          "text": [
            "\n",
            "  3%|▎         | 38/1257 [00:21<57:45,  2.84s/it]\u001b[A"
          ],
          "name": "stderr"
        },
        {
          "output_type": "stream",
          "text": [
            "AI Trader sold:  $ 25.677500  Profit: - # 0.830000\n"
          ],
          "name": "stdout"
        },
        {
          "output_type": "stream",
          "text": [
            "\n",
            "  3%|▎         | 39/1257 [00:24<1:00:59,  3.00s/it]\u001b[A"
          ],
          "name": "stderr"
        },
        {
          "output_type": "stream",
          "text": [
            "AI Trader bought:  $ 25.174999\n"
          ],
          "name": "stdout"
        },
        {
          "output_type": "stream",
          "text": [
            "\n",
            "  3%|▎         | 40/1257 [00:27<1:02:45,  3.09s/it]\u001b[A"
          ],
          "name": "stderr"
        },
        {
          "output_type": "stream",
          "text": [
            "AI Trader sold:  $ 24.112499  Profit: - # 3.040001\n"
          ],
          "name": "stdout"
        },
        {
          "output_type": "stream",
          "text": [
            "\n",
            "  3%|▎         | 41/1257 [00:31<1:06:42,  3.29s/it]\u001b[A\n",
            "  3%|▎         | 42/1257 [00:35<1:08:36,  3.39s/it]\u001b[A"
          ],
          "name": "stderr"
        },
        {
          "output_type": "stream",
          "text": [
            "AI Trader bought:  $ 24.632500\n"
          ],
          "name": "stdout"
        },
        {
          "output_type": "stream",
          "text": [
            "\n",
            "  3%|▎         | 43/1257 [00:38<1:09:06,  3.42s/it]\u001b[A"
          ],
          "name": "stderr"
        },
        {
          "output_type": "stream",
          "text": [
            "AI Trader sold:  $ 24.990000  Profit: - # 2.017500\n"
          ],
          "name": "stdout"
        },
        {
          "output_type": "stream",
          "text": [
            "\n",
            "  4%|▎         | 44/1257 [00:42<1:08:46,  3.40s/it]\u001b[A\n",
            "  4%|▎         | 45/1257 [00:45<1:09:02,  3.42s/it]\u001b[A"
          ],
          "name": "stderr"
        },
        {
          "output_type": "stream",
          "text": [
            "AI Trader sold:  $ 24.879999  Profit: - # 1.435001\n"
          ],
          "name": "stdout"
        },
        {
          "output_type": "stream",
          "text": [
            "\n",
            "  4%|▎         | 46/1257 [00:48<1:07:51,  3.36s/it]\u001b[A"
          ],
          "name": "stderr"
        },
        {
          "output_type": "stream",
          "text": [
            "AI Trader bought:  $ 24.282499\n"
          ],
          "name": "stdout"
        },
        {
          "output_type": "stream",
          "text": [
            "\n",
            "  4%|▎         | 47/1257 [00:52<1:07:25,  3.34s/it]\u001b[A\n",
            "  4%|▍         | 48/1257 [00:55<1:08:32,  3.40s/it]\u001b[A"
          ],
          "name": "stderr"
        },
        {
          "output_type": "stream",
          "text": [
            "AI Trader sold:  $ 24.197500  Profit: - # 2.139999\n"
          ],
          "name": "stdout"
        },
        {
          "output_type": "stream",
          "text": [
            "\n",
            "  4%|▍         | 49/1257 [00:59<1:07:53,  3.37s/it]\u001b[A\n",
            "  4%|▍         | 50/1257 [01:02<1:07:27,  3.35s/it]\u001b[A"
          ],
          "name": "stderr"
        },
        {
          "output_type": "stream",
          "text": [
            "AI Trader sold:  $ 25.355000  Profit: $ 0.180000\n"
          ],
          "name": "stdout"
        },
        {
          "output_type": "stream",
          "text": [
            "\n",
            "  4%|▍         | 51/1257 [01:05<1:06:47,  3.32s/it]\u001b[A"
          ],
          "name": "stderr"
        },
        {
          "output_type": "stream",
          "text": [
            "AI Trader bought:  $ 24.860001\n"
          ],
          "name": "stdout"
        },
        {
          "output_type": "stream",
          "text": [
            "\n",
            "  4%|▍         | 52/1257 [01:08<1:06:55,  3.33s/it]\u001b[A\n",
            "  4%|▍         | 53/1257 [01:12<1:07:03,  3.34s/it]\u001b[A"
          ],
          "name": "stderr"
        },
        {
          "output_type": "stream",
          "text": [
            "AI Trader sold:  $ 23.355000  Profit: - # 1.277500\n"
          ],
          "name": "stdout"
        },
        {
          "output_type": "stream",
          "text": [
            "\n",
            "  4%|▍         | 54/1257 [01:15<1:07:43,  3.38s/it]\u001b[A\n",
            "  4%|▍         | 55/1257 [01:18<1:06:30,  3.32s/it]\u001b[A"
          ],
          "name": "stderr"
        },
        {
          "output_type": "stream",
          "text": [
            "AI Trader bought:  $ 24.334999\n"
          ],
          "name": "stdout"
        },
        {
          "output_type": "stream",
          "text": [
            "\n",
            "  4%|▍         | 56/1257 [01:22<1:05:34,  3.28s/it]\u001b[A\n",
            "  5%|▍         | 57/1257 [01:25<1:04:52,  3.24s/it]\u001b[A"
          ],
          "name": "stderr"
        },
        {
          "output_type": "stream",
          "text": [
            "AI Trader bought:  $ 23.620001\n"
          ],
          "name": "stdout"
        },
        {
          "output_type": "stream",
          "text": [
            "\n",
            "  5%|▍         | 58/1257 [01:28<1:04:46,  3.24s/it]\u001b[A"
          ],
          "name": "stderr"
        },
        {
          "output_type": "stream",
          "text": [
            "AI Trader bought:  $ 24.087500\n"
          ],
          "name": "stdout"
        },
        {
          "output_type": "stream",
          "text": [
            "\n",
            "  5%|▍         | 59/1257 [01:31<1:04:30,  3.23s/it]\u001b[A"
          ],
          "name": "stderr"
        },
        {
          "output_type": "stream",
          "text": [
            "AI Trader sold:  $ 24.150000  Profit: - # 0.132500\n"
          ],
          "name": "stdout"
        },
        {
          "output_type": "stream",
          "text": [
            "\n",
            "  5%|▍         | 60/1257 [01:35<1:04:51,  3.25s/it]\u001b[A"
          ],
          "name": "stderr"
        },
        {
          "output_type": "stream",
          "text": [
            "AI Trader sold:  $ 23.504999  Profit: - # 1.355001\n"
          ],
          "name": "stdout"
        },
        {
          "output_type": "stream",
          "text": [
            "\n",
            "  5%|▍         | 61/1257 [01:38<1:06:17,  3.33s/it]\u001b[A"
          ],
          "name": "stderr"
        },
        {
          "output_type": "stream",
          "text": [
            "AI Trader sold:  $ 23.752501  Profit: - # 0.582499\n"
          ],
          "name": "stdout"
        },
        {
          "output_type": "stream",
          "text": [
            "\n",
            "  5%|▍         | 62/1257 [01:41<1:05:41,  3.30s/it]\u001b[A"
          ],
          "name": "stderr"
        },
        {
          "output_type": "stream",
          "text": [
            "AI Trader bought:  $ 23.747499\n"
          ],
          "name": "stdout"
        },
        {
          "output_type": "stream",
          "text": [
            "\n",
            "  5%|▌         | 63/1257 [01:45<1:05:28,  3.29s/it]\u001b[A"
          ],
          "name": "stderr"
        },
        {
          "output_type": "stream",
          "text": [
            "AI Trader bought:  $ 23.567499\n"
          ],
          "name": "stdout"
        },
        {
          "output_type": "stream",
          "text": [
            "\n",
            "  5%|▌         | 64/1257 [01:48<1:06:16,  3.33s/it]\u001b[A"
          ],
          "name": "stderr"
        },
        {
          "output_type": "stream",
          "text": [
            "AI Trader bought:  $ 23.424999\n"
          ],
          "name": "stdout"
        },
        {
          "output_type": "stream",
          "text": [
            "\n",
            "  5%|▌         | 65/1257 [01:51<1:05:44,  3.31s/it]\u001b[A\n",
            "  5%|▌         | 66/1257 [01:54<1:05:11,  3.28s/it]\u001b[A"
          ],
          "name": "stderr"
        },
        {
          "output_type": "stream",
          "text": [
            "AI Trader bought:  $ 24.160000\n"
          ],
          "name": "stdout"
        },
        {
          "output_type": "stream",
          "text": [
            "\n",
            "  5%|▌         | 67/1257 [01:58<1:06:47,  3.37s/it]\u001b[A\n",
            "  5%|▌         | 68/1257 [02:01<1:05:59,  3.33s/it]\u001b[A\n",
            "  5%|▌         | 69/1257 [02:05<1:05:54,  3.33s/it]\u001b[A"
          ],
          "name": "stderr"
        },
        {
          "output_type": "stream",
          "text": [
            "AI Trader sold:  $ 24.010000  Profit: $ 0.389999\n"
          ],
          "name": "stdout"
        },
        {
          "output_type": "stream",
          "text": [
            "\n",
            "  6%|▌         | 70/1257 [02:08<1:06:08,  3.34s/it]\u001b[A\n",
            "  6%|▌         | 71/1257 [02:11<1:06:53,  3.38s/it]\u001b[A"
          ],
          "name": "stderr"
        },
        {
          "output_type": "stream",
          "text": [
            "AI Trader sold:  $ 23.672501  Profit: - # 0.414999\n"
          ],
          "name": "stdout"
        },
        {
          "output_type": "stream",
          "text": [
            "\n",
            "  6%|▌         | 72/1257 [02:15<1:07:14,  3.40s/it]\u001b[A\n",
            "  6%|▌         | 73/1257 [02:18<1:07:32,  3.42s/it]\u001b[A"
          ],
          "name": "stderr"
        },
        {
          "output_type": "stream",
          "text": [
            "AI Trader sold:  $ 24.190001  Profit: $ 0.442501\n"
          ],
          "name": "stdout"
        },
        {
          "output_type": "stream",
          "text": [
            "\n",
            "  6%|▌         | 74/1257 [02:22<1:09:10,  3.51s/it]\u001b[A"
          ],
          "name": "stderr"
        },
        {
          "output_type": "stream",
          "text": [
            "AI Trader sold:  $ 24.227501  Profit: $ 0.660002\n"
          ],
          "name": "stdout"
        },
        {
          "output_type": "stream",
          "text": [
            "\n",
            "  6%|▌         | 75/1257 [02:25<1:08:26,  3.47s/it]\u001b[A"
          ],
          "name": "stderr"
        },
        {
          "output_type": "stream",
          "text": [
            "AI Trader sold:  $ 24.172501  Profit: $ 0.747501\n"
          ],
          "name": "stdout"
        },
        {
          "output_type": "stream",
          "text": [
            "\n",
            "  6%|▌         | 76/1257 [02:29<1:08:20,  3.47s/it]\u001b[A"
          ],
          "name": "stderr"
        },
        {
          "output_type": "stream",
          "text": [
            "AI Trader bought:  $ 25.132500\n"
          ],
          "name": "stdout"
        },
        {
          "output_type": "stream",
          "text": [
            "\n",
            "  6%|▌         | 77/1257 [02:32<1:07:55,  3.45s/it]\u001b[A"
          ],
          "name": "stderr"
        },
        {
          "output_type": "stream",
          "text": [
            "AI Trader sold:  $ 25.187500  Profit: $ 1.027500\n"
          ],
          "name": "stdout"
        },
        {
          "output_type": "stream",
          "text": [
            "\n",
            "  6%|▌         | 78/1257 [02:36<1:06:52,  3.40s/it]\u001b[A\n",
            "  6%|▋         | 79/1257 [02:39<1:06:47,  3.40s/it]\u001b[A"
          ],
          "name": "stderr"
        },
        {
          "output_type": "stream",
          "text": [
            "AI Trader bought:  $ 25.752501\n"
          ],
          "name": "stdout"
        },
        {
          "output_type": "stream",
          "text": [
            "\n",
            "  6%|▋         | 80/1257 [02:42<1:05:27,  3.34s/it]\u001b[A\n",
            "  6%|▋         | 81/1257 [02:46<1:05:49,  3.36s/it]\u001b[A"
          ],
          "name": "stderr"
        },
        {
          "output_type": "stream",
          "text": [
            "AI Trader bought:  $ 25.257500\n"
          ],
          "name": "stdout"
        },
        {
          "output_type": "stream",
          "text": [
            "\n",
            "  7%|▋         | 82/1257 [02:49<1:06:52,  3.41s/it]\u001b[A"
          ],
          "name": "stderr"
        },
        {
          "output_type": "stream",
          "text": [
            "AI Trader sold:  $ 25.280001  Profit: $ 0.147501\n"
          ],
          "name": "stdout"
        },
        {
          "output_type": "stream",
          "text": [
            "\n",
            "  7%|▋         | 83/1257 [02:52<1:05:59,  3.37s/it]\u001b[A"
          ],
          "name": "stderr"
        },
        {
          "output_type": "stream",
          "text": [
            "AI Trader bought:  $ 25.292500\n"
          ],
          "name": "stdout"
        },
        {
          "output_type": "stream",
          "text": [
            "\n",
            "  7%|▋         | 84/1257 [02:56<1:05:36,  3.36s/it]\u001b[A\n",
            "  7%|▋         | 85/1257 [02:59<1:05:53,  3.37s/it]\u001b[A\n",
            "  7%|▋         | 86/1257 [03:02<1:04:59,  3.33s/it]\u001b[A"
          ],
          "name": "stderr"
        },
        {
          "output_type": "stream",
          "text": [
            "AI Trader bought:  $ 26.145000\n"
          ],
          "name": "stdout"
        },
        {
          "output_type": "stream",
          "text": [
            "\n",
            "  7%|▋         | 87/1257 [03:06<1:05:34,  3.36s/it]\u001b[A\n",
            "  7%|▋         | 88/1257 [03:09<1:04:52,  3.33s/it]\u001b[A\n",
            "  7%|▋         | 89/1257 [03:13<1:05:39,  3.37s/it]\u001b[A"
          ],
          "name": "stderr"
        },
        {
          "output_type": "stream",
          "text": [
            "AI Trader bought:  $ 26.480000\n"
          ],
          "name": "stdout"
        },
        {
          "output_type": "stream",
          "text": [
            "\n",
            "  7%|▋         | 90/1257 [03:16<1:05:21,  3.36s/it]\u001b[A"
          ],
          "name": "stderr"
        },
        {
          "output_type": "stream",
          "text": [
            "AI Trader bought:  $ 26.477501\n"
          ],
          "name": "stdout"
        },
        {
          "output_type": "stream",
          "text": [
            "\n",
            "  7%|▋         | 91/1257 [03:19<1:05:14,  3.36s/it]\u001b[A\n",
            "  7%|▋         | 92/1257 [03:23<1:06:24,  3.42s/it]\u001b[A"
          ],
          "name": "stderr"
        },
        {
          "output_type": "stream",
          "text": [
            "AI Trader bought:  $ 26.532499\n"
          ],
          "name": "stdout"
        },
        {
          "output_type": "stream",
          "text": [
            "\n",
            "  7%|▋         | 93/1257 [03:26<1:06:51,  3.45s/it]\u001b[A"
          ],
          "name": "stderr"
        },
        {
          "output_type": "stream",
          "text": [
            "AI Trader bought:  $ 26.417500\n"
          ],
          "name": "stdout"
        },
        {
          "output_type": "stream",
          "text": [
            "\n",
            "  7%|▋         | 94/1257 [03:30<1:06:23,  3.43s/it]\u001b[A\n",
            "  8%|▊         | 95/1257 [03:33<1:05:17,  3.37s/it]\u001b[A"
          ],
          "name": "stderr"
        },
        {
          "output_type": "stream",
          "text": [
            "AI Trader bought:  $ 26.920000\n"
          ],
          "name": "stdout"
        },
        {
          "output_type": "stream",
          "text": [
            "\n",
            "  8%|▊         | 96/1257 [03:36<1:04:47,  3.35s/it]\u001b[A\n",
            "  8%|▊         | 97/1257 [03:40<1:05:00,  3.36s/it]\u001b[A"
          ],
          "name": "stderr"
        },
        {
          "output_type": "stream",
          "text": [
            "AI Trader sold:  $ 27.247499  Profit: $ 1.494999\n"
          ],
          "name": "stdout"
        },
        {
          "output_type": "stream",
          "text": [
            "\n",
            "  8%|▊         | 98/1257 [03:43<1:04:33,  3.34s/it]\u001b[A"
          ],
          "name": "stderr"
        },
        {
          "output_type": "stream",
          "text": [
            "AI Trader sold:  $ 27.497499  Profit: $ 2.240000\n"
          ],
          "name": "stdout"
        },
        {
          "output_type": "stream",
          "text": [
            "\n",
            "  8%|▊         | 99/1257 [03:46<1:03:42,  3.30s/it]\u001b[A\n",
            "  8%|▊         | 100/1257 [03:50<1:04:37,  3.35s/it]\u001b[A"
          ],
          "name": "stderr"
        },
        {
          "output_type": "stream",
          "text": [
            "AI Trader sold:  $ 27.452499  Profit: $ 2.160000\n"
          ],
          "name": "stdout"
        },
        {
          "output_type": "stream",
          "text": [
            "\n",
            "  8%|▊         | 101/1257 [03:53<1:03:53,  3.32s/it]\u001b[A"
          ],
          "name": "stderr"
        },
        {
          "output_type": "stream",
          "text": [
            "AI Trader bought:  $ 27.740000\n"
          ],
          "name": "stdout"
        },
        {
          "output_type": "stream",
          "text": [
            "\n",
            "  8%|▊         | 102/1257 [03:56<1:03:54,  3.32s/it]\u001b[A"
          ],
          "name": "stderr"
        },
        {
          "output_type": "stream",
          "text": [
            "AI Trader sold:  $ 27.135000  Profit: $ 0.990000\n"
          ],
          "name": "stdout"
        },
        {
          "output_type": "stream",
          "text": [
            "\n",
            "  8%|▊         | 103/1257 [04:00<1:04:07,  3.33s/it]\u001b[A\n",
            "  8%|▊         | 104/1257 [04:03<1:04:20,  3.35s/it]\u001b[A"
          ],
          "name": "stderr"
        },
        {
          "output_type": "stream",
          "text": [
            "AI Trader sold:  $ 27.254999  Profit: $ 0.775000\n"
          ],
          "name": "stdout"
        },
        {
          "output_type": "stream",
          "text": [
            "\n",
            "  8%|▊         | 105/1257 [04:06<1:03:19,  3.30s/it]\u001b[A\n",
            "  8%|▊         | 106/1257 [04:10<1:05:55,  3.44s/it]\u001b[A"
          ],
          "name": "stderr"
        },
        {
          "output_type": "stream",
          "text": [
            "AI Trader sold:  $ 28.010000  Profit: $ 1.532499\n"
          ],
          "name": "stdout"
        },
        {
          "output_type": "stream",
          "text": [
            "\n",
            "  9%|▊         | 107/1257 [04:13<1:05:42,  3.43s/it]\u001b[A"
          ],
          "name": "stderr"
        },
        {
          "output_type": "stream",
          "text": [
            "AI Trader bought:  $ 28.025000\n"
          ],
          "name": "stdout"
        },
        {
          "output_type": "stream",
          "text": [
            "\n",
            "  9%|▊         | 108/1257 [04:17<1:05:06,  3.40s/it]\u001b[A"
          ],
          "name": "stderr"
        },
        {
          "output_type": "stream",
          "text": [
            "AI Trader bought:  $ 27.462500\n"
          ],
          "name": "stdout"
        },
        {
          "output_type": "stream",
          "text": [
            "\n",
            "  9%|▊         | 109/1257 [04:20<1:04:33,  3.37s/it]\u001b[A"
          ],
          "name": "stderr"
        },
        {
          "output_type": "stream",
          "text": [
            "AI Trader sold:  $ 26.870001  Profit: $ 0.337502\n"
          ],
          "name": "stdout"
        },
        {
          "output_type": "stream",
          "text": [
            "\n",
            "  9%|▉         | 110/1257 [04:23<1:03:53,  3.34s/it]\u001b[A"
          ],
          "name": "stderr"
        },
        {
          "output_type": "stream",
          "text": [
            "AI Trader bought:  $ 26.727501\n"
          ],
          "name": "stdout"
        },
        {
          "output_type": "stream",
          "text": [
            "\n",
            "  9%|▉         | 111/1257 [04:26<1:03:16,  3.31s/it]\u001b[A"
          ],
          "name": "stderr"
        },
        {
          "output_type": "stream",
          "text": [
            "AI Trader sold:  $ 26.782499  Profit: $ 0.365000\n"
          ],
          "name": "stdout"
        },
        {
          "output_type": "stream",
          "text": [
            "\n",
            "  9%|▉         | 112/1257 [04:30<1:04:31,  3.38s/it]\u001b[A\n",
            "  9%|▉         | 113/1257 [04:33<1:04:50,  3.40s/it]\u001b[A\n",
            "  9%|▉         | 114/1257 [04:37<1:04:52,  3.41s/it]\u001b[A\n",
            "  9%|▉         | 115/1257 [04:40<1:05:11,  3.43s/it]\u001b[A"
          ],
          "name": "stderr"
        },
        {
          "output_type": "stream",
          "text": [
            "AI Trader bought:  $ 26.087500\n"
          ],
          "name": "stdout"
        },
        {
          "output_type": "stream",
          "text": [
            "\n",
            "  9%|▉         | 116/1257 [04:43<1:03:52,  3.36s/it]\u001b[A\n",
            "  9%|▉         | 117/1257 [04:47<1:03:25,  3.34s/it]\u001b[A\n",
            "  9%|▉         | 118/1257 [04:50<1:03:13,  3.33s/it]\u001b[A\n",
            "  9%|▉         | 119/1257 [04:54<1:03:40,  3.36s/it]\u001b[A\n",
            " 10%|▉         | 120/1257 [04:57<1:02:51,  3.32s/it]\u001b[A\n",
            " 10%|▉         | 121/1257 [05:00<1:03:08,  3.34s/it]\u001b[A\n",
            " 10%|▉         | 122/1257 [05:04<1:03:41,  3.37s/it]\u001b[A"
          ],
          "name": "stderr"
        },
        {
          "output_type": "stream",
          "text": [
            "AI Trader bought:  $ 23.309999\n"
          ],
          "name": "stdout"
        },
        {
          "output_type": "stream",
          "text": [
            "\n",
            " 10%|▉         | 123/1257 [05:07<1:02:56,  3.33s/it]\u001b[A"
          ],
          "name": "stderr"
        },
        {
          "output_type": "stream",
          "text": [
            "AI Trader sold:  $ 23.180000  Profit: - # 3.740000\n"
          ],
          "name": "stdout"
        },
        {
          "output_type": "stream",
          "text": [
            "\n",
            " 10%|▉         | 124/1257 [05:10<1:01:57,  3.28s/it]\u001b[A\n",
            " 10%|▉         | 125/1257 [05:13<1:02:49,  3.33s/it]\u001b[A\n",
            " 10%|█         | 126/1257 [05:17<1:03:11,  3.35s/it]\u001b[A\n",
            " 10%|█         | 127/1257 [05:20<1:04:55,  3.45s/it]\u001b[A"
          ],
          "name": "stderr"
        },
        {
          "output_type": "stream",
          "text": [
            "AI Trader sold:  $ 22.584999  Profit: - # 5.155001\n"
          ],
          "name": "stdout"
        },
        {
          "output_type": "stream",
          "text": [
            "\n",
            " 10%|█         | 128/1257 [05:24<1:04:21,  3.42s/it]\u001b[A\n",
            " 10%|█         | 129/1257 [05:27<1:03:04,  3.36s/it]\u001b[A\n",
            " 10%|█         | 130/1257 [05:30<1:01:54,  3.30s/it]\u001b[A"
          ],
          "name": "stderr"
        },
        {
          "output_type": "stream",
          "text": [
            "AI Trader sold:  $ 23.372499  Profit: - # 4.652500\n"
          ],
          "name": "stdout"
        },
        {
          "output_type": "stream",
          "text": [
            "\n",
            " 10%|█         | 131/1257 [05:34<1:02:44,  3.34s/it]\u001b[A\n",
            " 11%|█         | 132/1257 [05:37<1:03:30,  3.39s/it]\u001b[A\n",
            " 11%|█         | 133/1257 [05:40<1:02:51,  3.36s/it]\u001b[A"
          ],
          "name": "stderr"
        },
        {
          "output_type": "stream",
          "text": [
            "AI Trader sold:  $ 23.805000  Profit: - # 3.657499\n"
          ],
          "name": "stdout"
        },
        {
          "output_type": "stream",
          "text": [
            "\n",
            " 11%|█         | 134/1257 [05:44<1:02:28,  3.34s/it]\u001b[A\n",
            " 11%|█         | 135/1257 [05:47<1:01:31,  3.29s/it]\u001b[A\n",
            " 11%|█         | 136/1257 [05:50<1:01:02,  3.27s/it]\u001b[A"
          ],
          "name": "stderr"
        },
        {
          "output_type": "stream",
          "text": [
            "AI Trader sold:  $ 24.905001  Profit: - # 1.822500\n"
          ],
          "name": "stdout"
        },
        {
          "output_type": "stream",
          "text": [
            "\n",
            " 11%|█         | 137/1257 [05:54<1:02:00,  3.32s/it]\u001b[A\n",
            " 11%|█         | 138/1257 [05:57<1:03:00,  3.38s/it]\u001b[A\n",
            " 11%|█         | 139/1257 [06:00<1:02:27,  3.35s/it]\u001b[A\n",
            " 11%|█         | 140/1257 [06:04<1:02:30,  3.36s/it]\u001b[A"
          ],
          "name": "stderr"
        },
        {
          "output_type": "stream",
          "text": [
            "AI Trader sold:  $ 24.615000  Profit: - # 1.472500\n"
          ],
          "name": "stdout"
        },
        {
          "output_type": "stream",
          "text": [
            "\n",
            " 11%|█         | 141/1257 [06:07<1:02:02,  3.34s/it]\u001b[A"
          ],
          "name": "stderr"
        },
        {
          "output_type": "stream",
          "text": [
            "AI Trader bought:  $ 24.430000\n"
          ],
          "name": "stdout"
        },
        {
          "output_type": "stream",
          "text": [
            "\n",
            " 11%|█▏        | 142/1257 [06:10<1:01:41,  3.32s/it]\u001b[A\n",
            " 11%|█▏        | 143/1257 [06:14<1:02:00,  3.34s/it]\u001b[A\n",
            " 11%|█▏        | 144/1257 [06:17<1:02:55,  3.39s/it]\u001b[A"
          ],
          "name": "stderr"
        },
        {
          "output_type": "stream",
          "text": [
            "AI Trader bought:  $ 24.757500\n"
          ],
          "name": "stdout"
        },
        {
          "output_type": "stream",
          "text": [
            "\n",
            " 12%|█▏        | 145/1257 [06:20<1:02:17,  3.36s/it]\u001b[A"
          ],
          "name": "stderr"
        },
        {
          "output_type": "stream",
          "text": [
            "AI Trader bought:  $ 24.735001\n"
          ],
          "name": "stdout"
        },
        {
          "output_type": "stream",
          "text": [
            "\n",
            " 12%|█▏        | 146/1257 [06:24<1:01:14,  3.31s/it]\u001b[A"
          ],
          "name": "stderr"
        },
        {
          "output_type": "stream",
          "text": [
            "AI Trader bought:  $ 24.912500\n"
          ],
          "name": "stdout"
        },
        {
          "output_type": "stream",
          "text": [
            "\n",
            " 12%|█▏        | 147/1257 [06:27<1:01:21,  3.32s/it]\u001b[A\n",
            " 12%|█▏        | 148/1257 [06:30<1:01:14,  3.31s/it]\u001b[A"
          ],
          "name": "stderr"
        },
        {
          "output_type": "stream",
          "text": [
            "AI Trader sold:  $ 24.334999  Profit: $ 1.025000\n"
          ],
          "name": "stdout"
        },
        {
          "output_type": "stream",
          "text": [
            "\n",
            " 12%|█▏        | 149/1257 [06:34<1:01:08,  3.31s/it]\u001b[A\n",
            " 12%|█▏        | 150/1257 [06:37<1:01:11,  3.32s/it]\u001b[A\n",
            " 12%|█▏        | 151/1257 [06:40<1:02:06,  3.37s/it]\u001b[A"
          ],
          "name": "stderr"
        },
        {
          "output_type": "stream",
          "text": [
            "AI Trader sold:  $ 24.387501  Profit: - # 0.042500\n"
          ],
          "name": "stdout"
        },
        {
          "output_type": "stream",
          "text": [
            "\n",
            " 12%|█▏        | 152/1257 [06:44<1:01:14,  3.32s/it]\u001b[A\n",
            " 12%|█▏        | 153/1257 [06:47<1:00:32,  3.29s/it]\u001b[A\n",
            " 12%|█▏        | 154/1257 [06:50<1:01:33,  3.35s/it]\u001b[A\n",
            " 12%|█▏        | 155/1257 [06:54<1:01:05,  3.33s/it]\u001b[A\n",
            " 12%|█▏        | 156/1257 [06:57<1:01:08,  3.33s/it]\u001b[A"
          ],
          "name": "stderr"
        },
        {
          "output_type": "stream",
          "text": [
            "AI Trader bought:  $ 24.025000\n"
          ],
          "name": "stdout"
        },
        {
          "output_type": "stream",
          "text": [
            "\n",
            " 12%|█▏        | 157/1257 [07:00<1:01:17,  3.34s/it]\u001b[A\n",
            " 13%|█▎        | 158/1257 [07:04<1:01:58,  3.38s/it]\u001b[A\n",
            " 13%|█▎        | 159/1257 [07:07<1:01:28,  3.36s/it]\u001b[A\n",
            " 13%|█▎        | 160/1257 [07:11<1:01:54,  3.39s/it]\u001b[A\n",
            " 13%|█▎        | 161/1257 [07:14<1:01:42,  3.38s/it]\u001b[A\n",
            " 13%|█▎        | 162/1257 [07:17<1:00:54,  3.34s/it]\u001b[A"
          ],
          "name": "stderr"
        },
        {
          "output_type": "stream",
          "text": [
            "AI Trader bought:  $ 23.972500\n"
          ],
          "name": "stdout"
        },
        {
          "output_type": "stream",
          "text": [
            "\n",
            " 13%|█▎        | 163/1257 [07:20<1:00:34,  3.32s/it]\u001b[A"
          ],
          "name": "stderr"
        },
        {
          "output_type": "stream",
          "text": [
            "AI Trader bought:  $ 23.747499\n"
          ],
          "name": "stdout"
        },
        {
          "output_type": "stream",
          "text": [
            "\n",
            " 13%|█▎        | 164/1257 [07:24<1:00:51,  3.34s/it]\u001b[A"
          ],
          "name": "stderr"
        },
        {
          "output_type": "stream",
          "text": [
            "AI Trader bought:  $ 23.882500\n"
          ],
          "name": "stdout"
        },
        {
          "output_type": "stream",
          "text": [
            "\n",
            " 13%|█▎        | 165/1257 [07:27<1:00:16,  3.31s/it]\u001b[A\n",
            " 13%|█▎        | 166/1257 [07:31<1:01:01,  3.36s/it]\u001b[A\n",
            " 13%|█▎        | 167/1257 [07:34<1:01:42,  3.40s/it]\u001b[A\n",
            " 13%|█▎        | 168/1257 [07:38<1:02:18,  3.43s/it]\u001b[A\n",
            " 13%|█▎        | 169/1257 [07:41<1:01:14,  3.38s/it]\u001b[A\n",
            " 14%|█▎        | 170/1257 [07:44<1:00:17,  3.33s/it]\u001b[A"
          ],
          "name": "stderr"
        },
        {
          "output_type": "stream",
          "text": [
            "AI Trader sold:  $ 24.697500  Profit: - # 0.059999\n"
          ],
          "name": "stdout"
        },
        {
          "output_type": "stream",
          "text": [
            "\n",
            " 14%|█▎        | 171/1257 [07:47<1:01:03,  3.37s/it]\u001b[A\n",
            " 14%|█▎        | 172/1257 [07:51<1:00:52,  3.37s/it]\u001b[A\n",
            " 14%|█▍        | 173/1257 [07:54<1:00:08,  3.33s/it]\u001b[A\n",
            " 14%|█▍        | 174/1257 [07:58<1:00:33,  3.35s/it]\u001b[A\n",
            " 14%|█▍        | 175/1257 [08:01<1:00:07,  3.33s/it]\u001b[A"
          ],
          "name": "stderr"
        },
        {
          "output_type": "stream",
          "text": [
            "AI Trader sold:  $ 24.857500  Profit: $ 0.122499\n"
          ],
          "name": "stdout"
        },
        {
          "output_type": "stream",
          "text": [
            "\n",
            " 14%|█▍        | 176/1257 [08:04<1:00:05,  3.33s/it]\u001b[A\n",
            " 14%|█▍        | 177/1257 [08:08<1:00:48,  3.38s/it]\u001b[A\n",
            " 14%|█▍        | 178/1257 [08:11<1:00:27,  3.36s/it]\u001b[A\n",
            " 14%|█▍        | 179/1257 [08:14<1:00:59,  3.40s/it]\u001b[A\n",
            " 14%|█▍        | 180/1257 [08:18<1:00:32,  3.37s/it]\u001b[A"
          ],
          "name": "stderr"
        },
        {
          "output_type": "stream",
          "text": [
            "AI Trader bought:  $ 26.084999\n"
          ],
          "name": "stdout"
        },
        {
          "output_type": "stream",
          "text": [
            "\n",
            " 14%|█▍        | 181/1257 [08:21<59:42,  3.33s/it]  \u001b[A"
          ],
          "name": "stderr"
        },
        {
          "output_type": "stream",
          "text": [
            "AI Trader sold:  $ 26.052500  Profit: $ 1.139999\n"
          ],
          "name": "stdout"
        },
        {
          "output_type": "stream",
          "text": [
            "\n",
            " 14%|█▍        | 182/1257 [08:24<59:08,  3.30s/it]\u001b[A\n",
            " 15%|█▍        | 183/1257 [08:27<58:50,  3.29s/it]\u001b[A"
          ],
          "name": "stderr"
        },
        {
          "output_type": "stream",
          "text": [
            "AI Trader bought:  $ 26.120001\n"
          ],
          "name": "stdout"
        },
        {
          "output_type": "stream",
          "text": [
            "\n",
            " 15%|█▍        | 184/1257 [08:31<59:29,  3.33s/it]\u001b[A\n",
            " 15%|█▍        | 185/1257 [08:34<1:00:47,  3.40s/it]\u001b[A"
          ],
          "name": "stderr"
        },
        {
          "output_type": "stream",
          "text": [
            "AI Trader sold:  $ 26.467501  Profit: $ 2.442501\n"
          ],
          "name": "stdout"
        },
        {
          "output_type": "stream",
          "text": [
            "\n",
            " 15%|█▍        | 186/1257 [08:38<1:00:40,  3.40s/it]\u001b[A"
          ],
          "name": "stderr"
        },
        {
          "output_type": "stream",
          "text": [
            "AI Trader bought:  $ 26.870001\n"
          ],
          "name": "stdout"
        },
        {
          "output_type": "stream",
          "text": [
            "\n",
            " 15%|█▍        | 187/1257 [08:41<59:40,  3.35s/it]  \u001b[A\n",
            " 15%|█▍        | 188/1257 [08:44<59:23,  3.33s/it]\u001b[A\n",
            " 15%|█▌        | 189/1257 [08:48<59:55,  3.37s/it]\u001b[A\n",
            " 15%|█▌        | 190/1257 [08:51<1:00:21,  3.39s/it]\u001b[A\n",
            " 15%|█▌        | 191/1257 [08:55<1:00:36,  3.41s/it]\u001b[A\n",
            " 15%|█▌        | 192/1257 [08:58<59:25,  3.35s/it]  \u001b[A\n",
            " 15%|█▌        | 193/1257 [09:01<58:30,  3.30s/it]\u001b[A\n",
            " 15%|█▌        | 194/1257 [09:04<58:26,  3.30s/it]\u001b[A\n",
            " 16%|█▌        | 195/1257 [09:08<57:52,  3.27s/it]\u001b[A\n",
            " 16%|█▌        | 196/1257 [09:11<59:47,  3.38s/it]\u001b[A"
          ],
          "name": "stderr"
        },
        {
          "output_type": "stream",
          "text": [
            "AI Trader bought:  $ 27.340000\n"
          ],
          "name": "stdout"
        },
        {
          "output_type": "stream",
          "text": [
            "\n",
            " 16%|█▌        | 197/1257 [09:15<1:00:16,  3.41s/it]\u001b[A\n",
            " 16%|█▌        | 198/1257 [09:18<1:01:17,  3.47s/it]\u001b[A\n",
            " 16%|█▌        | 199/1257 [09:22<1:00:49,  3.45s/it]\u001b[A\n",
            " 16%|█▌        | 200/1257 [09:25<1:00:14,  3.42s/it]\u001b[A"
          ],
          "name": "stderr"
        },
        {
          "output_type": "stream",
          "text": [
            "AI Trader bought:  $ 26.892500\n"
          ],
          "name": "stdout"
        },
        {
          "output_type": "stream",
          "text": [
            "\n",
            " 16%|█▌        | 201/1257 [09:28<59:23,  3.37s/it]  \u001b[A\n",
            " 16%|█▌        | 202/1257 [09:32<59:34,  3.39s/it]\u001b[A\n",
            " 16%|█▌        | 203/1257 [09:35<59:36,  3.39s/it]\u001b[A"
          ],
          "name": "stderr"
        },
        {
          "output_type": "stream",
          "text": [
            "AI Trader bought:  $ 26.500000\n"
          ],
          "name": "stdout"
        },
        {
          "output_type": "stream",
          "text": [
            "\n",
            " 16%|█▌        | 204/1257 [09:38<58:32,  3.34s/it]\u001b[A\n",
            " 16%|█▋        | 205/1257 [09:42<59:02,  3.37s/it]\u001b[A"
          ],
          "name": "stderr"
        },
        {
          "output_type": "stream",
          "text": [
            "AI Trader bought:  $ 26.682501\n"
          ],
          "name": "stdout"
        },
        {
          "output_type": "stream",
          "text": [
            "\n",
            " 16%|█▋        | 206/1257 [09:45<58:56,  3.36s/it]\u001b[A\n",
            " 16%|█▋        | 207/1257 [09:48<58:36,  3.35s/it]\u001b[A\n",
            " 17%|█▋        | 208/1257 [09:52<58:35,  3.35s/it]\u001b[A\n",
            " 17%|█▋        | 209/1257 [09:55<59:18,  3.40s/it]\u001b[A\n",
            " 17%|█▋        | 210/1257 [09:59<59:31,  3.41s/it]\u001b[A\n",
            " 17%|█▋        | 211/1257 [10:02<58:37,  3.36s/it]\u001b[A"
          ],
          "name": "stderr"
        },
        {
          "output_type": "stream",
          "text": [
            "AI Trader bought:  $ 26.360001\n"
          ],
          "name": "stdout"
        },
        {
          "output_type": "stream",
          "text": [
            "\n",
            " 17%|█▋        | 212/1257 [10:05<57:39,  3.31s/it]\u001b[A"
          ],
          "name": "stderr"
        },
        {
          "output_type": "stream",
          "text": [
            "AI Trader sold:  $ 26.987499  Profit: $ 3.014999\n"
          ],
          "name": "stdout"
        },
        {
          "output_type": "stream",
          "text": [
            "\n",
            " 17%|█▋        | 213/1257 [10:08<56:38,  3.26s/it]\u001b[A\n",
            " 17%|█▋        | 214/1257 [10:12<56:33,  3.25s/it]\u001b[A\n",
            " 17%|█▋        | 215/1257 [10:15<57:27,  3.31s/it]\u001b[A\n",
            " 17%|█▋        | 216/1257 [10:19<58:43,  3.38s/it]\u001b[A"
          ],
          "name": "stderr"
        },
        {
          "output_type": "stream",
          "text": [
            "AI Trader sold:  $ 28.395000  Profit: $ 4.647501\n"
          ],
          "name": "stdout"
        },
        {
          "output_type": "stream",
          "text": [
            "\n",
            " 17%|█▋        | 217/1257 [10:22<57:48,  3.33s/it]\u001b[A"
          ],
          "name": "stderr"
        },
        {
          "output_type": "stream",
          "text": [
            "AI Trader sold:  $ 28.392500  Profit: $ 4.510000\n"
          ],
          "name": "stdout"
        },
        {
          "output_type": "stream",
          "text": [
            "\n",
            " 17%|█▋        | 218/1257 [10:25<57:26,  3.32s/it]\u001b[A"
          ],
          "name": "stderr"
        },
        {
          "output_type": "stream",
          "text": [
            "AI Trader bought:  $ 28.387501\n"
          ],
          "name": "stdout"
        },
        {
          "output_type": "stream",
          "text": [
            "\n",
            " 17%|█▋        | 219/1257 [10:29<57:49,  3.34s/it]\u001b[A\n",
            " 18%|█▊        | 220/1257 [10:32<57:59,  3.35s/it]\u001b[A"
          ],
          "name": "stderr"
        },
        {
          "output_type": "stream",
          "text": [
            "AI Trader sold:  $ 28.177500  Profit: $ 2.092501\n"
          ],
          "name": "stdout"
        },
        {
          "output_type": "stream",
          "text": [
            "\n",
            " 18%|█▊        | 221/1257 [10:35<57:16,  3.32s/it]\u001b[A\n",
            " 18%|█▊        | 222/1257 [10:38<57:33,  3.34s/it]\u001b[A\n",
            " 18%|█▊        | 223/1257 [10:42<58:17,  3.38s/it]\u001b[A\n",
            " 18%|█▊        | 224/1257 [10:45<57:56,  3.37s/it]\u001b[A\n",
            " 18%|█▊        | 225/1257 [10:49<57:05,  3.32s/it]\u001b[A\n",
            " 18%|█▊        | 226/1257 [10:52<56:46,  3.30s/it]\u001b[A\n",
            " 18%|█▊        | 227/1257 [10:55<56:10,  3.27s/it]\u001b[A"
          ],
          "name": "stderr"
        },
        {
          "output_type": "stream",
          "text": [
            "AI Trader sold:  $ 28.250000  Profit: $ 2.129999\n"
          ],
          "name": "stdout"
        },
        {
          "output_type": "stream",
          "text": [
            "\n",
            " 18%|█▊        | 228/1257 [10:58<55:33,  3.24s/it]\u001b[A\n",
            " 18%|█▊        | 229/1257 [11:02<56:11,  3.28s/it]\u001b[A\n",
            " 18%|█▊        | 230/1257 [11:05<56:36,  3.31s/it]\u001b[A"
          ],
          "name": "stderr"
        },
        {
          "output_type": "stream",
          "text": [
            "AI Trader bought:  $ 28.514999\n"
          ],
          "name": "stdout"
        },
        {
          "output_type": "stream",
          "text": [
            "\n",
            " 18%|█▊        | 231/1257 [11:08<56:05,  3.28s/it]\u001b[A\n",
            " 18%|█▊        | 232/1257 [11:11<56:33,  3.31s/it]\u001b[A"
          ],
          "name": "stderr"
        },
        {
          "output_type": "stream",
          "text": [
            "AI Trader sold:  $ 29.075001  Profit: $ 2.205000\n"
          ],
          "name": "stdout"
        },
        {
          "output_type": "stream",
          "text": [
            "\n",
            " 19%|█▊        | 233/1257 [11:15<56:01,  3.28s/it]\u001b[A\n",
            " 19%|█▊        | 234/1257 [11:18<55:41,  3.27s/it]\u001b[A\n",
            " 19%|█▊        | 235/1257 [11:21<55:24,  3.25s/it]\u001b[A"
          ],
          "name": "stderr"
        },
        {
          "output_type": "stream",
          "text": [
            "AI Trader bought:  $ 29.407499\n"
          ],
          "name": "stdout"
        },
        {
          "output_type": "stream",
          "text": [
            "\n",
            " 19%|█▉        | 236/1257 [11:25<56:01,  3.29s/it]\u001b[A\n",
            " 19%|█▉        | 237/1257 [11:28<56:18,  3.31s/it]\u001b[A\n",
            " 19%|█▉        | 238/1257 [11:31<55:58,  3.30s/it]\u001b[A\n",
            " 19%|█▉        | 239/1257 [11:35<56:37,  3.34s/it]\u001b[A\n",
            " 19%|█▉        | 240/1257 [11:38<56:51,  3.35s/it]\u001b[A\n",
            " 19%|█▉        | 241/1257 [11:41<56:49,  3.36s/it]\u001b[A"
          ],
          "name": "stderr"
        },
        {
          "output_type": "stream",
          "text": [
            "AI Trader bought:  $ 29.412500\n"
          ],
          "name": "stdout"
        },
        {
          "output_type": "stream",
          "text": [
            "\n",
            " 19%|█▉        | 242/1257 [11:45<55:45,  3.30s/it]\u001b[A\n",
            " 19%|█▉        | 243/1257 [11:48<56:09,  3.32s/it]\u001b[A\n",
            " 19%|█▉        | 244/1257 [11:51<55:36,  3.29s/it]\u001b[A\n",
            " 19%|█▉        | 245/1257 [11:54<55:29,  3.29s/it]\u001b[A\n",
            " 20%|█▉        | 246/1257 [11:58<54:58,  3.26s/it]\u001b[A\n",
            " 20%|█▉        | 247/1257 [12:01<54:43,  3.25s/it]\u001b[A\n",
            " 20%|█▉        | 248/1257 [12:04<55:08,  3.28s/it]\u001b[A\n",
            " 20%|█▉        | 249/1257 [12:08<55:52,  3.33s/it]\u001b[A\n",
            " 20%|█▉        | 250/1257 [12:11<55:26,  3.30s/it]\u001b[A\n",
            " 20%|█▉        | 251/1257 [12:14<55:48,  3.33s/it]\u001b[A\n",
            " 20%|██        | 252/1257 [12:18<57:30,  3.43s/it]\u001b[A"
          ],
          "name": "stderr"
        },
        {
          "output_type": "stream",
          "text": [
            "AI Trader sold:  $ 27.764999  Profit: $ 0.424999\n"
          ],
          "name": "stdout"
        },
        {
          "output_type": "stream",
          "text": [
            "\n",
            " 20%|██        | 253/1257 [12:21<56:49,  3.40s/it]\u001b[A\n",
            " 20%|██        | 254/1257 [12:24<56:02,  3.35s/it]\u001b[A"
          ],
          "name": "stderr"
        },
        {
          "output_type": "stream",
          "text": [
            "AI Trader sold:  $ 26.947500  Profit: $ 0.055000\n"
          ],
          "name": "stdout"
        },
        {
          "output_type": "stream",
          "text": [
            "\n",
            " 20%|██        | 255/1257 [12:28<56:27,  3.38s/it]\u001b[A\n",
            " 20%|██        | 256/1257 [12:32<57:33,  3.45s/it]\u001b[A\n",
            " 20%|██        | 257/1257 [12:35<57:55,  3.48s/it]\u001b[A"
          ],
          "name": "stderr"
        },
        {
          "output_type": "stream",
          "text": [
            "AI Trader bought:  $ 26.777500\n"
          ],
          "name": "stdout"
        },
        {
          "output_type": "stream",
          "text": [
            "\n",
            " 21%|██        | 258/1257 [12:39<57:40,  3.46s/it]\u001b[A"
          ],
          "name": "stderr"
        },
        {
          "output_type": "stream",
          "text": [
            "AI Trader sold:  $ 27.497499  Profit: $ 0.997499\n"
          ],
          "name": "stdout"
        },
        {
          "output_type": "stream",
          "text": [
            "\n",
            " 21%|██        | 259/1257 [12:42<58:23,  3.51s/it]\u001b[A"
          ],
          "name": "stderr"
        },
        {
          "output_type": "stream",
          "text": [
            "AI Trader bought:  $ 27.487499\n"
          ],
          "name": "stdout"
        },
        {
          "output_type": "stream",
          "text": [
            "\n",
            " 21%|██        | 260/1257 [12:46<57:49,  3.48s/it]\u001b[A\n",
            " 21%|██        | 261/1257 [12:49<58:19,  3.51s/it]\u001b[A\n",
            " 21%|██        | 262/1257 [12:53<58:57,  3.56s/it]\u001b[A"
          ],
          "name": "stderr"
        },
        {
          "output_type": "stream",
          "text": [
            "AI Trader sold:  $ 27.950001  Profit: $ 1.267500\n"
          ],
          "name": "stdout"
        },
        {
          "output_type": "stream",
          "text": [
            "\n",
            " 21%|██        | 263/1257 [12:56<58:32,  3.53s/it]\u001b[A\n",
            " 21%|██        | 264/1257 [13:00<57:25,  3.47s/it]\u001b[A\n",
            " 21%|██        | 265/1257 [13:03<58:15,  3.52s/it]\u001b[A\n",
            " 21%|██        | 266/1257 [13:06<56:53,  3.44s/it]\u001b[A\n",
            " 21%|██        | 267/1257 [13:10<55:52,  3.39s/it]\u001b[A\n",
            " 21%|██▏       | 268/1257 [13:13<55:09,  3.35s/it]\u001b[A\n",
            " 21%|██▏       | 269/1257 [13:16<55:43,  3.38s/it]\u001b[A\n",
            " 21%|██▏       | 270/1257 [13:20<55:49,  3.39s/it]\u001b[A\n",
            " 22%|██▏       | 271/1257 [13:23<55:30,  3.38s/it]\u001b[A\n",
            " 22%|██▏       | 272/1257 [13:26<54:48,  3.34s/it]\u001b[A"
          ],
          "name": "stderr"
        },
        {
          "output_type": "stream",
          "text": [
            "AI Trader bought:  $ 27.757500\n"
          ],
          "name": "stdout"
        },
        {
          "output_type": "stream",
          "text": [
            "\n",
            " 22%|██▏       | 273/1257 [13:30<54:50,  3.34s/it]\u001b[A\n",
            " 22%|██▏       | 274/1257 [13:33<55:39,  3.40s/it]\u001b[A\n",
            " 22%|██▏       | 275/1257 [13:37<56:20,  3.44s/it]\u001b[A\n",
            " 22%|██▏       | 276/1257 [13:40<55:35,  3.40s/it]\u001b[A\n",
            " 22%|██▏       | 277/1257 [13:44<55:17,  3.38s/it]\u001b[A\n",
            " 22%|██▏       | 278/1257 [13:47<54:25,  3.34s/it]\u001b[A\n",
            " 22%|██▏       | 279/1257 [13:50<53:49,  3.30s/it]\u001b[A\n",
            " 22%|██▏       | 280/1257 [13:53<53:33,  3.29s/it]\u001b[A"
          ],
          "name": "stderr"
        },
        {
          "output_type": "stream",
          "text": [
            "AI Trader bought:  $ 29.160000\n"
          ],
          "name": "stdout"
        },
        {
          "output_type": "stream",
          "text": [
            "\n",
            " 22%|██▏       | 281/1257 [13:56<53:16,  3.27s/it]\u001b[A"
          ],
          "name": "stderr"
        },
        {
          "output_type": "stream",
          "text": [
            "AI Trader bought:  $ 29.237499\n"
          ],
          "name": "stdout"
        },
        {
          "output_type": "stream",
          "text": [
            "\n",
            " 22%|██▏       | 282/1257 [14:00<54:02,  3.33s/it]\u001b[A"
          ],
          "name": "stderr"
        },
        {
          "output_type": "stream",
          "text": [
            "AI Trader sold:  $ 29.264999  Profit: $ 2.904999\n"
          ],
          "name": "stdout"
        },
        {
          "output_type": "stream",
          "text": [
            "\n",
            " 23%|██▎       | 283/1257 [14:03<53:35,  3.30s/it]\u001b[A\n",
            " 23%|██▎       | 284/1257 [14:07<53:57,  3.33s/it]\u001b[A\n",
            " 23%|██▎       | 285/1257 [14:10<53:13,  3.29s/it]\u001b[A"
          ],
          "name": "stderr"
        },
        {
          "output_type": "error",
          "ename": "KeyboardInterrupt",
          "evalue": "ignored",
          "traceback": [
            "\u001b[0;31m---------------------------------------------------------------------------\u001b[0m",
            "\u001b[0;31mKeyboardInterrupt\u001b[0m                         Traceback (most recent call last)",
            "\u001b[0;32m<ipython-input-53-66d9ac5f33df>\u001b[0m in \u001b[0;36m<module>\u001b[0;34m()\u001b[0m\n\u001b[1;32m     41\u001b[0m \u001b[0;34m\u001b[0m\u001b[0m\n\u001b[1;32m     42\u001b[0m     \u001b[0;32mif\u001b[0m \u001b[0mlen\u001b[0m\u001b[0;34m(\u001b[0m\u001b[0mtrader\u001b[0m\u001b[0;34m.\u001b[0m\u001b[0mmemory\u001b[0m\u001b[0;34m)\u001b[0m \u001b[0;34m>\u001b[0m \u001b[0mbatch_size\u001b[0m\u001b[0;34m:\u001b[0m\u001b[0;34m\u001b[0m\u001b[0;34m\u001b[0m\u001b[0m\n\u001b[0;32m---> 43\u001b[0;31m       \u001b[0mtrader\u001b[0m\u001b[0;34m.\u001b[0m\u001b[0mbatch_train\u001b[0m\u001b[0;34m(\u001b[0m\u001b[0mbatch_size\u001b[0m\u001b[0;34m)\u001b[0m\u001b[0;34m\u001b[0m\u001b[0;34m\u001b[0m\u001b[0m\n\u001b[0m\u001b[1;32m     44\u001b[0m \u001b[0;34m\u001b[0m\u001b[0m\n\u001b[1;32m     45\u001b[0m   \u001b[0;32mif\u001b[0m \u001b[0mepisode\u001b[0m \u001b[0;34m%\u001b[0m \u001b[0;36m10\u001b[0m \u001b[0;34m==\u001b[0m \u001b[0;36m0\u001b[0m\u001b[0;34m:\u001b[0m\u001b[0;34m\u001b[0m\u001b[0;34m\u001b[0m\u001b[0m\n",
            "\u001b[0;32m<ipython-input-51-5294d95fc093>\u001b[0m in \u001b[0;36mbatch_train\u001b[0;34m(self, batch_size)\u001b[0m\n\u001b[1;32m     37\u001b[0m         \u001b[0;32mif\u001b[0m \u001b[0;32mnot\u001b[0m \u001b[0mdone\u001b[0m\u001b[0;34m:\u001b[0m\u001b[0;34m\u001b[0m\u001b[0;34m\u001b[0m\u001b[0m\n\u001b[1;32m     38\u001b[0m           \u001b[0mreward\u001b[0m \u001b[0;34m=\u001b[0m \u001b[0mreward\u001b[0m \u001b[0;34m+\u001b[0m \u001b[0mself\u001b[0m\u001b[0;34m.\u001b[0m\u001b[0mgamma\u001b[0m \u001b[0;34m*\u001b[0m \u001b[0mnp\u001b[0m\u001b[0;34m.\u001b[0m\u001b[0mamax\u001b[0m\u001b[0;34m(\u001b[0m\u001b[0mself\u001b[0m\u001b[0;34m.\u001b[0m\u001b[0mmodel\u001b[0m\u001b[0;34m.\u001b[0m\u001b[0mpredict\u001b[0m\u001b[0;34m(\u001b[0m\u001b[0mnp\u001b[0m\u001b[0;34m.\u001b[0m\u001b[0mexpand_dims\u001b[0m\u001b[0;34m(\u001b[0m\u001b[0mnext_state\u001b[0m\u001b[0;34m,\u001b[0m \u001b[0;36m2\u001b[0m\u001b[0;34m)\u001b[0m\u001b[0;34m)\u001b[0m\u001b[0;34m[\u001b[0m\u001b[0;36m0\u001b[0m\u001b[0;34m]\u001b[0m\u001b[0;34m)\u001b[0m\u001b[0;34m\u001b[0m\u001b[0;34m\u001b[0m\u001b[0m\n\u001b[0;32m---> 39\u001b[0;31m         \u001b[0mtarget\u001b[0m \u001b[0;34m=\u001b[0m \u001b[0mself\u001b[0m\u001b[0;34m.\u001b[0m\u001b[0mmodel\u001b[0m\u001b[0;34m.\u001b[0m\u001b[0mpredict\u001b[0m\u001b[0;34m(\u001b[0m\u001b[0mnp\u001b[0m\u001b[0;34m.\u001b[0m\u001b[0mexpand_dims\u001b[0m\u001b[0;34m(\u001b[0m\u001b[0mstate\u001b[0m\u001b[0;34m,\u001b[0m \u001b[0;36m2\u001b[0m\u001b[0;34m)\u001b[0m\u001b[0;34m)\u001b[0m\u001b[0;34m\u001b[0m\u001b[0;34m\u001b[0m\u001b[0m\n\u001b[0m\u001b[1;32m     40\u001b[0m         \u001b[0mtarget\u001b[0m\u001b[0;34m[\u001b[0m\u001b[0;36m0\u001b[0m\u001b[0;34m]\u001b[0m\u001b[0;34m[\u001b[0m\u001b[0maction\u001b[0m\u001b[0;34m]\u001b[0m \u001b[0;34m=\u001b[0m \u001b[0mreward\u001b[0m\u001b[0;34m\u001b[0m\u001b[0;34m\u001b[0m\u001b[0m\n\u001b[1;32m     41\u001b[0m         \u001b[0mself\u001b[0m\u001b[0;34m.\u001b[0m\u001b[0mmodel\u001b[0m\u001b[0;34m.\u001b[0m\u001b[0mfit\u001b[0m\u001b[0;34m(\u001b[0m\u001b[0mnp\u001b[0m\u001b[0;34m.\u001b[0m\u001b[0mexpand_dims\u001b[0m\u001b[0;34m(\u001b[0m\u001b[0mstate\u001b[0m\u001b[0;34m,\u001b[0m \u001b[0;36m2\u001b[0m\u001b[0;34m)\u001b[0m\u001b[0;34m,\u001b[0m \u001b[0mtarget\u001b[0m\u001b[0;34m,\u001b[0m \u001b[0mepochs\u001b[0m\u001b[0;34m=\u001b[0m\u001b[0;36m1\u001b[0m\u001b[0;34m,\u001b[0m \u001b[0mverbose\u001b[0m\u001b[0;34m=\u001b[0m\u001b[0;36m0\u001b[0m\u001b[0;34m)\u001b[0m\u001b[0;34m\u001b[0m\u001b[0;34m\u001b[0m\u001b[0m\n",
            "\u001b[0;32m/usr/local/lib/python3.6/dist-packages/tensorflow/python/keras/engine/training.py\u001b[0m in \u001b[0;36m_method_wrapper\u001b[0;34m(self, *args, **kwargs)\u001b[0m\n\u001b[1;32m    128\u001b[0m       raise ValueError('{} is not supported in multi-worker mode.'.format(\n\u001b[1;32m    129\u001b[0m           method.__name__))\n\u001b[0;32m--> 130\u001b[0;31m     \u001b[0;32mreturn\u001b[0m \u001b[0mmethod\u001b[0m\u001b[0;34m(\u001b[0m\u001b[0mself\u001b[0m\u001b[0;34m,\u001b[0m \u001b[0;34m*\u001b[0m\u001b[0margs\u001b[0m\u001b[0;34m,\u001b[0m \u001b[0;34m**\u001b[0m\u001b[0mkwargs\u001b[0m\u001b[0;34m)\u001b[0m\u001b[0;34m\u001b[0m\u001b[0;34m\u001b[0m\u001b[0m\n\u001b[0m\u001b[1;32m    131\u001b[0m \u001b[0;34m\u001b[0m\u001b[0m\n\u001b[1;32m    132\u001b[0m   return tf_decorator.make_decorator(\n",
            "\u001b[0;32m/usr/local/lib/python3.6/dist-packages/tensorflow/python/keras/engine/training.py\u001b[0m in \u001b[0;36mpredict\u001b[0;34m(self, x, batch_size, verbose, steps, callbacks, max_queue_size, workers, use_multiprocessing)\u001b[0m\n\u001b[1;32m   1593\u001b[0m       \u001b[0mself\u001b[0m\u001b[0;34m.\u001b[0m\u001b[0m_predict_counter\u001b[0m\u001b[0;34m.\u001b[0m\u001b[0massign\u001b[0m\u001b[0;34m(\u001b[0m\u001b[0;36m0\u001b[0m\u001b[0;34m)\u001b[0m\u001b[0;34m\u001b[0m\u001b[0;34m\u001b[0m\u001b[0m\n\u001b[1;32m   1594\u001b[0m       \u001b[0mcallbacks\u001b[0m\u001b[0;34m.\u001b[0m\u001b[0mon_predict_begin\u001b[0m\u001b[0;34m(\u001b[0m\u001b[0;34m)\u001b[0m\u001b[0;34m\u001b[0m\u001b[0;34m\u001b[0m\u001b[0m\n\u001b[0;32m-> 1595\u001b[0;31m       \u001b[0;32mfor\u001b[0m \u001b[0m_\u001b[0m\u001b[0;34m,\u001b[0m \u001b[0miterator\u001b[0m \u001b[0;32min\u001b[0m \u001b[0mdata_handler\u001b[0m\u001b[0;34m.\u001b[0m\u001b[0menumerate_epochs\u001b[0m\u001b[0;34m(\u001b[0m\u001b[0;34m)\u001b[0m\u001b[0;34m:\u001b[0m  \u001b[0;31m# Single epoch.\u001b[0m\u001b[0;34m\u001b[0m\u001b[0;34m\u001b[0m\u001b[0m\n\u001b[0m\u001b[1;32m   1596\u001b[0m         \u001b[0;32mwith\u001b[0m \u001b[0mdata_handler\u001b[0m\u001b[0;34m.\u001b[0m\u001b[0mcatch_stop_iteration\u001b[0m\u001b[0;34m(\u001b[0m\u001b[0;34m)\u001b[0m\u001b[0;34m:\u001b[0m\u001b[0;34m\u001b[0m\u001b[0;34m\u001b[0m\u001b[0m\n\u001b[1;32m   1597\u001b[0m           \u001b[0;32mfor\u001b[0m \u001b[0mstep\u001b[0m \u001b[0;32min\u001b[0m \u001b[0mdata_handler\u001b[0m\u001b[0;34m.\u001b[0m\u001b[0msteps\u001b[0m\u001b[0;34m(\u001b[0m\u001b[0;34m)\u001b[0m\u001b[0;34m:\u001b[0m\u001b[0;34m\u001b[0m\u001b[0;34m\u001b[0m\u001b[0m\n",
            "\u001b[0;32m/usr/local/lib/python3.6/dist-packages/tensorflow/python/keras/engine/data_adapter.py\u001b[0m in \u001b[0;36menumerate_epochs\u001b[0;34m(self)\u001b[0m\n\u001b[1;32m   1136\u001b[0m     \u001b[0;34m\"\"\"Yields `(epoch, tf.data.Iterator)`.\"\"\"\u001b[0m\u001b[0;34m\u001b[0m\u001b[0;34m\u001b[0m\u001b[0m\n\u001b[1;32m   1137\u001b[0m     \u001b[0;32mwith\u001b[0m \u001b[0mself\u001b[0m\u001b[0;34m.\u001b[0m\u001b[0m_truncate_execution_to_epoch\u001b[0m\u001b[0;34m(\u001b[0m\u001b[0;34m)\u001b[0m\u001b[0;34m:\u001b[0m\u001b[0;34m\u001b[0m\u001b[0;34m\u001b[0m\u001b[0m\n\u001b[0;32m-> 1138\u001b[0;31m       \u001b[0mdata_iterator\u001b[0m \u001b[0;34m=\u001b[0m \u001b[0miter\u001b[0m\u001b[0;34m(\u001b[0m\u001b[0mself\u001b[0m\u001b[0;34m.\u001b[0m\u001b[0m_dataset\u001b[0m\u001b[0;34m)\u001b[0m\u001b[0;34m\u001b[0m\u001b[0;34m\u001b[0m\u001b[0m\n\u001b[0m\u001b[1;32m   1139\u001b[0m       \u001b[0;32mfor\u001b[0m \u001b[0mepoch\u001b[0m \u001b[0;32min\u001b[0m \u001b[0mrange\u001b[0m\u001b[0;34m(\u001b[0m\u001b[0mself\u001b[0m\u001b[0;34m.\u001b[0m\u001b[0m_initial_epoch\u001b[0m\u001b[0;34m,\u001b[0m \u001b[0mself\u001b[0m\u001b[0;34m.\u001b[0m\u001b[0m_epochs\u001b[0m\u001b[0;34m)\u001b[0m\u001b[0;34m:\u001b[0m\u001b[0;34m\u001b[0m\u001b[0;34m\u001b[0m\u001b[0m\n\u001b[1;32m   1140\u001b[0m         \u001b[0;32mif\u001b[0m \u001b[0mself\u001b[0m\u001b[0;34m.\u001b[0m\u001b[0m_insufficient_data\u001b[0m\u001b[0;34m:\u001b[0m  \u001b[0;31m# Set by `catch_stop_iteration`.\u001b[0m\u001b[0;34m\u001b[0m\u001b[0;34m\u001b[0m\u001b[0m\n",
            "\u001b[0;32m/usr/local/lib/python3.6/dist-packages/tensorflow/python/data/ops/dataset_ops.py\u001b[0m in \u001b[0;36m__iter__\u001b[0;34m(self)\u001b[0m\n\u001b[1;32m    413\u001b[0m     \"\"\"\n\u001b[1;32m    414\u001b[0m     \u001b[0;32mif\u001b[0m \u001b[0mcontext\u001b[0m\u001b[0;34m.\u001b[0m\u001b[0mexecuting_eagerly\u001b[0m\u001b[0;34m(\u001b[0m\u001b[0;34m)\u001b[0m \u001b[0;32mor\u001b[0m \u001b[0mops\u001b[0m\u001b[0;34m.\u001b[0m\u001b[0minside_function\u001b[0m\u001b[0;34m(\u001b[0m\u001b[0;34m)\u001b[0m\u001b[0;34m:\u001b[0m\u001b[0;34m\u001b[0m\u001b[0;34m\u001b[0m\u001b[0m\n\u001b[0;32m--> 415\u001b[0;31m       \u001b[0;32mreturn\u001b[0m \u001b[0miterator_ops\u001b[0m\u001b[0;34m.\u001b[0m\u001b[0mOwnedIterator\u001b[0m\u001b[0;34m(\u001b[0m\u001b[0mself\u001b[0m\u001b[0;34m)\u001b[0m\u001b[0;34m\u001b[0m\u001b[0;34m\u001b[0m\u001b[0m\n\u001b[0m\u001b[1;32m    416\u001b[0m     \u001b[0;32melse\u001b[0m\u001b[0;34m:\u001b[0m\u001b[0;34m\u001b[0m\u001b[0;34m\u001b[0m\u001b[0m\n\u001b[1;32m    417\u001b[0m       raise RuntimeError(\"__iter__() is only supported inside of tf.function \"\n",
            "\u001b[0;32m/usr/local/lib/python3.6/dist-packages/tensorflow/python/data/ops/iterator_ops.py\u001b[0m in \u001b[0;36m__init__\u001b[0;34m(self, dataset, components, element_spec, job_token)\u001b[0m\n\u001b[1;32m    694\u001b[0m           context.context().device_spec.device_type != \"CPU\"):\n\u001b[1;32m    695\u001b[0m         \u001b[0;32mwith\u001b[0m \u001b[0mops\u001b[0m\u001b[0;34m.\u001b[0m\u001b[0mdevice\u001b[0m\u001b[0;34m(\u001b[0m\u001b[0;34m\"/cpu:0\"\u001b[0m\u001b[0;34m)\u001b[0m\u001b[0;34m:\u001b[0m\u001b[0;34m\u001b[0m\u001b[0;34m\u001b[0m\u001b[0m\n\u001b[0;32m--> 696\u001b[0;31m           \u001b[0mself\u001b[0m\u001b[0;34m.\u001b[0m\u001b[0m_create_iterator\u001b[0m\u001b[0;34m(\u001b[0m\u001b[0mdataset\u001b[0m\u001b[0;34m)\u001b[0m\u001b[0;34m\u001b[0m\u001b[0;34m\u001b[0m\u001b[0m\n\u001b[0m\u001b[1;32m    697\u001b[0m       \u001b[0;32melse\u001b[0m\u001b[0;34m:\u001b[0m\u001b[0;34m\u001b[0m\u001b[0;34m\u001b[0m\u001b[0m\n\u001b[1;32m    698\u001b[0m         \u001b[0mself\u001b[0m\u001b[0;34m.\u001b[0m\u001b[0m_create_iterator\u001b[0m\u001b[0;34m(\u001b[0m\u001b[0mdataset\u001b[0m\u001b[0;34m)\u001b[0m\u001b[0;34m\u001b[0m\u001b[0;34m\u001b[0m\u001b[0m\n",
            "\u001b[0;32m/usr/local/lib/python3.6/dist-packages/tensorflow/python/data/ops/iterator_ops.py\u001b[0m in \u001b[0;36m_create_iterator\u001b[0;34m(self, dataset)\u001b[0m\n\u001b[1;32m    720\u001b[0m               output_shapes=self._flat_output_shapes))\n\u001b[1;32m    721\u001b[0m       \u001b[0;32mif\u001b[0m \u001b[0mself\u001b[0m\u001b[0;34m.\u001b[0m\u001b[0m_job_token\u001b[0m \u001b[0;32mis\u001b[0m \u001b[0;32mNone\u001b[0m\u001b[0;34m:\u001b[0m\u001b[0;34m\u001b[0m\u001b[0;34m\u001b[0m\u001b[0m\n\u001b[0;32m--> 722\u001b[0;31m         \u001b[0mgen_dataset_ops\u001b[0m\u001b[0;34m.\u001b[0m\u001b[0mmake_iterator\u001b[0m\u001b[0;34m(\u001b[0m\u001b[0mds_variant\u001b[0m\u001b[0;34m,\u001b[0m \u001b[0mself\u001b[0m\u001b[0;34m.\u001b[0m\u001b[0m_iterator_resource\u001b[0m\u001b[0;34m)\u001b[0m\u001b[0;34m\u001b[0m\u001b[0;34m\u001b[0m\u001b[0m\n\u001b[0m\u001b[1;32m    723\u001b[0m       \u001b[0;32melse\u001b[0m\u001b[0;34m:\u001b[0m\u001b[0;34m\u001b[0m\u001b[0;34m\u001b[0m\u001b[0m\n\u001b[1;32m    724\u001b[0m         gen_experimental_dataset_ops.make_data_service_iterator(\n",
            "\u001b[0;32m/usr/local/lib/python3.6/dist-packages/tensorflow/python/ops/gen_dataset_ops.py\u001b[0m in \u001b[0;36mmake_iterator\u001b[0;34m(dataset, iterator, name)\u001b[0m\n\u001b[1;32m   3005\u001b[0m       _result = pywrap_tfe.TFE_Py_FastPathExecute(\n\u001b[1;32m   3006\u001b[0m         \u001b[0m_ctx\u001b[0m\u001b[0;34m.\u001b[0m\u001b[0m_context_handle\u001b[0m\u001b[0;34m,\u001b[0m \u001b[0mtld\u001b[0m\u001b[0;34m.\u001b[0m\u001b[0mdevice_name\u001b[0m\u001b[0;34m,\u001b[0m \u001b[0;34m\"MakeIterator\"\u001b[0m\u001b[0;34m,\u001b[0m \u001b[0mname\u001b[0m\u001b[0;34m,\u001b[0m\u001b[0;34m\u001b[0m\u001b[0;34m\u001b[0m\u001b[0m\n\u001b[0;32m-> 3007\u001b[0;31m         tld.op_callbacks, dataset, iterator)\n\u001b[0m\u001b[1;32m   3008\u001b[0m       \u001b[0;32mreturn\u001b[0m \u001b[0m_result\u001b[0m\u001b[0;34m\u001b[0m\u001b[0;34m\u001b[0m\u001b[0m\n\u001b[1;32m   3009\u001b[0m     \u001b[0;32mexcept\u001b[0m \u001b[0m_core\u001b[0m\u001b[0;34m.\u001b[0m\u001b[0m_NotOkStatusException\u001b[0m \u001b[0;32mas\u001b[0m \u001b[0me\u001b[0m\u001b[0;34m:\u001b[0m\u001b[0;34m\u001b[0m\u001b[0;34m\u001b[0m\u001b[0m\n",
            "\u001b[0;31mKeyboardInterrupt\u001b[0m: "
          ]
        }
      ]
    }
  ]
}